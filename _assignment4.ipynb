{
 "cells": [
  {
   "cell_type": "code",
   "execution_count": null,
   "id": "58f0d0a0-4c2b-4f57-9a45-4fdc4a562aee",
   "metadata": {},
   "outputs": [],
   "source": [
    "ans_1 :   l = [('Sachin Tendulkar', 34357), ('Ricky Ponting', 27483), ('Jack Kallis', 25534), ('Virat Kohli', 24936)]\n",
    "          l.sort( key = lambda x : x[1] )\n",
    "          print(l)\n",
    "ans_2 :-  l1 = [1, 2, 3, 4, 5, 6, 7, 8, 9, 10]\n",
    "          list(map(lambda x : x**2 , l1))\n",
    "ans_3 -     l2 = [1, 2, 3, 4, 5, 6, 7, 8, 9, 10]\n",
    "            tuple(map(lambda x : x , l2))   \n",
    "ans_4 -   l3 = list(range(1,26))\n",
    "        reduce(lambda x,y: x*y ,l3)    \n",
    "ans_5 :  l = [2, 3, 6, 9, 27, 60, 90, 120, 55, 46]\n",
    "        list(filter(lambda x : x%2==0 or x%3==0 , l ))   \n",
    "ans_6 : l1 = ['python', 'php', 'aba', 'radar', 'level']\n",
    "        list(filter(lambda x : x == x[::-1] , l1))        "
   ]
  }
 ],
 "metadata": {
  "kernelspec": {
   "display_name": "Python 3 (ipykernel)",
   "language": "python",
   "name": "python3"
  },
  "language_info": {
   "codemirror_mode": {
    "name": "ipython",
    "version": 3
   },
   "file_extension": ".py",
   "mimetype": "text/x-python",
   "name": "python",
   "nbconvert_exporter": "python",
   "pygments_lexer": "ipython3",
   "version": "3.10.8"
  }
 },
 "nbformat": 4,
 "nbformat_minor": 5
}
